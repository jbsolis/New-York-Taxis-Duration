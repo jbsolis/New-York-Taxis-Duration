{
 "cells": [
  {
   "cell_type": "code",
   "execution_count": 2,
   "metadata": {
    "_cell_guid": "2b304d24-3f46-4df6-b262-a1678f6eac7b",
    "_execution_state": "idle",
    "_uuid": "43d4620de2d7ab3299f6ff131cd254bd5074f2f2",
    "collapsed": true
   },
   "outputs": [],
   "source": [
    "import numpy as np # linear algebra\n",
    "import pandas as pd # data processing, CSV file I/O (e.g. pd.read_csv)\n",
    "import matplotlib as plt\n",
    "import seaborn as sns\n",
    "import os\n",
    "%matplotlib inline\n",
    "# Any results you write to the current directory are saved as output."
   ]
  },
  {
   "cell_type": "code",
   "execution_count": 3,
   "metadata": {
    "_cell_guid": "298e1afb-8c20-49a7-a54a-dfaa267e211b",
    "_execution_state": "idle",
    "_uuid": "4e3a64433f52ec78f402af671a45a855b89df2be"
   },
   "outputs": [],
   "source": [
    "os.chdir(\"..\")\n",
    "train = pd.read_csv('train.csv')"
   ]
  },
  {
   "cell_type": "code",
   "execution_count": 4,
   "metadata": {
    "_cell_guid": "d8c9c027-49a3-4fca-8d52-81b1d1866596",
    "_execution_state": "idle",
    "_uuid": "7a801b6bd6079f3cee3c263e18de491c60232170"
   },
   "outputs": [
    {
     "data": {
      "text/plain": [
       "(1458644, 11)"
      ]
     },
     "execution_count": 4,
     "metadata": {},
     "output_type": "execute_result"
    }
   ],
   "source": [
    "train.shape"
   ]
  },
  {
   "cell_type": "code",
   "execution_count": 5,
   "metadata": {
    "_cell_guid": "eefddc0d-19a8-499d-a9d7-5e02c318f23f",
    "_execution_state": "idle",
    "_uuid": "85c537bfc91ad28917d3d0f1d7e026235942f1c8"
   },
   "outputs": [
    {
     "data": {
      "text/html": [
       "<div>\n",
       "<style>\n",
       "    .dataframe thead tr:only-child th {\n",
       "        text-align: right;\n",
       "    }\n",
       "\n",
       "    .dataframe thead th {\n",
       "        text-align: left;\n",
       "    }\n",
       "\n",
       "    .dataframe tbody tr th {\n",
       "        vertical-align: top;\n",
       "    }\n",
       "</style>\n",
       "<table border=\"1\" class=\"dataframe\">\n",
       "  <thead>\n",
       "    <tr style=\"text-align: right;\">\n",
       "      <th></th>\n",
       "      <th>vendor_id</th>\n",
       "      <th>passenger_count</th>\n",
       "      <th>pickup_longitude</th>\n",
       "      <th>pickup_latitude</th>\n",
       "      <th>dropoff_longitude</th>\n",
       "      <th>dropoff_latitude</th>\n",
       "      <th>trip_duration</th>\n",
       "    </tr>\n",
       "  </thead>\n",
       "  <tbody>\n",
       "    <tr>\n",
       "      <th>count</th>\n",
       "      <td>1.458644e+06</td>\n",
       "      <td>1.458644e+06</td>\n",
       "      <td>1.458644e+06</td>\n",
       "      <td>1.458644e+06</td>\n",
       "      <td>1.458644e+06</td>\n",
       "      <td>1.458644e+06</td>\n",
       "      <td>1.458644e+06</td>\n",
       "    </tr>\n",
       "    <tr>\n",
       "      <th>mean</th>\n",
       "      <td>1.534950e+00</td>\n",
       "      <td>1.664530e+00</td>\n",
       "      <td>-7.397349e+01</td>\n",
       "      <td>4.075092e+01</td>\n",
       "      <td>-7.397342e+01</td>\n",
       "      <td>4.075180e+01</td>\n",
       "      <td>9.594923e+02</td>\n",
       "    </tr>\n",
       "    <tr>\n",
       "      <th>std</th>\n",
       "      <td>4.987772e-01</td>\n",
       "      <td>1.314242e+00</td>\n",
       "      <td>7.090186e-02</td>\n",
       "      <td>3.288119e-02</td>\n",
       "      <td>7.064327e-02</td>\n",
       "      <td>3.589056e-02</td>\n",
       "      <td>5.237432e+03</td>\n",
       "    </tr>\n",
       "    <tr>\n",
       "      <th>min</th>\n",
       "      <td>1.000000e+00</td>\n",
       "      <td>0.000000e+00</td>\n",
       "      <td>-1.219333e+02</td>\n",
       "      <td>3.435970e+01</td>\n",
       "      <td>-1.219333e+02</td>\n",
       "      <td>3.218114e+01</td>\n",
       "      <td>1.000000e+00</td>\n",
       "    </tr>\n",
       "    <tr>\n",
       "      <th>25%</th>\n",
       "      <td>1.000000e+00</td>\n",
       "      <td>1.000000e+00</td>\n",
       "      <td>-7.399187e+01</td>\n",
       "      <td>4.073735e+01</td>\n",
       "      <td>-7.399133e+01</td>\n",
       "      <td>4.073588e+01</td>\n",
       "      <td>3.970000e+02</td>\n",
       "    </tr>\n",
       "    <tr>\n",
       "      <th>50%</th>\n",
       "      <td>2.000000e+00</td>\n",
       "      <td>1.000000e+00</td>\n",
       "      <td>-7.398174e+01</td>\n",
       "      <td>4.075410e+01</td>\n",
       "      <td>-7.397975e+01</td>\n",
       "      <td>4.075452e+01</td>\n",
       "      <td>6.620000e+02</td>\n",
       "    </tr>\n",
       "    <tr>\n",
       "      <th>75%</th>\n",
       "      <td>2.000000e+00</td>\n",
       "      <td>2.000000e+00</td>\n",
       "      <td>-7.396733e+01</td>\n",
       "      <td>4.076836e+01</td>\n",
       "      <td>-7.396301e+01</td>\n",
       "      <td>4.076981e+01</td>\n",
       "      <td>1.075000e+03</td>\n",
       "    </tr>\n",
       "    <tr>\n",
       "      <th>max</th>\n",
       "      <td>2.000000e+00</td>\n",
       "      <td>9.000000e+00</td>\n",
       "      <td>-6.133553e+01</td>\n",
       "      <td>5.188108e+01</td>\n",
       "      <td>-6.133553e+01</td>\n",
       "      <td>4.392103e+01</td>\n",
       "      <td>3.526282e+06</td>\n",
       "    </tr>\n",
       "  </tbody>\n",
       "</table>\n",
       "</div>"
      ],
      "text/plain": [
       "          vendor_id  passenger_count  pickup_longitude  pickup_latitude  \\\n",
       "count  1.458644e+06     1.458644e+06      1.458644e+06     1.458644e+06   \n",
       "mean   1.534950e+00     1.664530e+00     -7.397349e+01     4.075092e+01   \n",
       "std    4.987772e-01     1.314242e+00      7.090186e-02     3.288119e-02   \n",
       "min    1.000000e+00     0.000000e+00     -1.219333e+02     3.435970e+01   \n",
       "25%    1.000000e+00     1.000000e+00     -7.399187e+01     4.073735e+01   \n",
       "50%    2.000000e+00     1.000000e+00     -7.398174e+01     4.075410e+01   \n",
       "75%    2.000000e+00     2.000000e+00     -7.396733e+01     4.076836e+01   \n",
       "max    2.000000e+00     9.000000e+00     -6.133553e+01     5.188108e+01   \n",
       "\n",
       "       dropoff_longitude  dropoff_latitude  trip_duration  \n",
       "count       1.458644e+06      1.458644e+06   1.458644e+06  \n",
       "mean       -7.397342e+01      4.075180e+01   9.594923e+02  \n",
       "std         7.064327e-02      3.589056e-02   5.237432e+03  \n",
       "min        -1.219333e+02      3.218114e+01   1.000000e+00  \n",
       "25%        -7.399133e+01      4.073588e+01   3.970000e+02  \n",
       "50%        -7.397975e+01      4.075452e+01   6.620000e+02  \n",
       "75%        -7.396301e+01      4.076981e+01   1.075000e+03  \n",
       "max        -6.133553e+01      4.392103e+01   3.526282e+06  "
      ]
     },
     "execution_count": 5,
     "metadata": {},
     "output_type": "execute_result"
    }
   ],
   "source": [
    "train.describe()"
   ]
  },
  {
   "cell_type": "code",
   "execution_count": 6,
   "metadata": {
    "_cell_guid": "26913d08-e30e-4644-a932-c72e756ac858",
    "_execution_state": "idle",
    "_uuid": "479caf12d8ba994d2be21069a1fa7f0de08ec8e6"
   },
   "outputs": [
    {
     "data": {
      "text/html": [
       "<div>\n",
       "<style>\n",
       "    .dataframe thead tr:only-child th {\n",
       "        text-align: right;\n",
       "    }\n",
       "\n",
       "    .dataframe thead th {\n",
       "        text-align: left;\n",
       "    }\n",
       "\n",
       "    .dataframe tbody tr th {\n",
       "        vertical-align: top;\n",
       "    }\n",
       "</style>\n",
       "<table border=\"1\" class=\"dataframe\">\n",
       "  <thead>\n",
       "    <tr style=\"text-align: right;\">\n",
       "      <th></th>\n",
       "      <th>id</th>\n",
       "      <th>vendor_id</th>\n",
       "      <th>pickup_datetime</th>\n",
       "      <th>dropoff_datetime</th>\n",
       "      <th>passenger_count</th>\n",
       "      <th>pickup_longitude</th>\n",
       "      <th>pickup_latitude</th>\n",
       "      <th>dropoff_longitude</th>\n",
       "      <th>dropoff_latitude</th>\n",
       "      <th>store_and_fwd_flag</th>\n",
       "      <th>trip_duration</th>\n",
       "    </tr>\n",
       "  </thead>\n",
       "  <tbody>\n",
       "    <tr>\n",
       "      <th>0</th>\n",
       "      <td>id2875421</td>\n",
       "      <td>2</td>\n",
       "      <td>2016-03-14 17:24:55</td>\n",
       "      <td>2016-03-14 17:32:30</td>\n",
       "      <td>1</td>\n",
       "      <td>-73.982155</td>\n",
       "      <td>40.767937</td>\n",
       "      <td>-73.964630</td>\n",
       "      <td>40.765602</td>\n",
       "      <td>N</td>\n",
       "      <td>455</td>\n",
       "    </tr>\n",
       "    <tr>\n",
       "      <th>1</th>\n",
       "      <td>id2377394</td>\n",
       "      <td>1</td>\n",
       "      <td>2016-06-12 00:43:35</td>\n",
       "      <td>2016-06-12 00:54:38</td>\n",
       "      <td>1</td>\n",
       "      <td>-73.980415</td>\n",
       "      <td>40.738564</td>\n",
       "      <td>-73.999481</td>\n",
       "      <td>40.731152</td>\n",
       "      <td>N</td>\n",
       "      <td>663</td>\n",
       "    </tr>\n",
       "    <tr>\n",
       "      <th>2</th>\n",
       "      <td>id3858529</td>\n",
       "      <td>2</td>\n",
       "      <td>2016-01-19 11:35:24</td>\n",
       "      <td>2016-01-19 12:10:48</td>\n",
       "      <td>1</td>\n",
       "      <td>-73.979027</td>\n",
       "      <td>40.763939</td>\n",
       "      <td>-74.005333</td>\n",
       "      <td>40.710087</td>\n",
       "      <td>N</td>\n",
       "      <td>2124</td>\n",
       "    </tr>\n",
       "    <tr>\n",
       "      <th>3</th>\n",
       "      <td>id3504673</td>\n",
       "      <td>2</td>\n",
       "      <td>2016-04-06 19:32:31</td>\n",
       "      <td>2016-04-06 19:39:40</td>\n",
       "      <td>1</td>\n",
       "      <td>-74.010040</td>\n",
       "      <td>40.719971</td>\n",
       "      <td>-74.012268</td>\n",
       "      <td>40.706718</td>\n",
       "      <td>N</td>\n",
       "      <td>429</td>\n",
       "    </tr>\n",
       "    <tr>\n",
       "      <th>4</th>\n",
       "      <td>id2181028</td>\n",
       "      <td>2</td>\n",
       "      <td>2016-03-26 13:30:55</td>\n",
       "      <td>2016-03-26 13:38:10</td>\n",
       "      <td>1</td>\n",
       "      <td>-73.973053</td>\n",
       "      <td>40.793209</td>\n",
       "      <td>-73.972923</td>\n",
       "      <td>40.782520</td>\n",
       "      <td>N</td>\n",
       "      <td>435</td>\n",
       "    </tr>\n",
       "    <tr>\n",
       "      <th>5</th>\n",
       "      <td>id0801584</td>\n",
       "      <td>2</td>\n",
       "      <td>2016-01-30 22:01:40</td>\n",
       "      <td>2016-01-30 22:09:03</td>\n",
       "      <td>6</td>\n",
       "      <td>-73.982857</td>\n",
       "      <td>40.742195</td>\n",
       "      <td>-73.992081</td>\n",
       "      <td>40.749184</td>\n",
       "      <td>N</td>\n",
       "      <td>443</td>\n",
       "    </tr>\n",
       "    <tr>\n",
       "      <th>6</th>\n",
       "      <td>id1813257</td>\n",
       "      <td>1</td>\n",
       "      <td>2016-06-17 22:34:59</td>\n",
       "      <td>2016-06-17 22:40:40</td>\n",
       "      <td>4</td>\n",
       "      <td>-73.969017</td>\n",
       "      <td>40.757839</td>\n",
       "      <td>-73.957405</td>\n",
       "      <td>40.765896</td>\n",
       "      <td>N</td>\n",
       "      <td>341</td>\n",
       "    </tr>\n",
       "    <tr>\n",
       "      <th>7</th>\n",
       "      <td>id1324603</td>\n",
       "      <td>2</td>\n",
       "      <td>2016-05-21 07:54:58</td>\n",
       "      <td>2016-05-21 08:20:49</td>\n",
       "      <td>1</td>\n",
       "      <td>-73.969276</td>\n",
       "      <td>40.797779</td>\n",
       "      <td>-73.922470</td>\n",
       "      <td>40.760559</td>\n",
       "      <td>N</td>\n",
       "      <td>1551</td>\n",
       "    </tr>\n",
       "    <tr>\n",
       "      <th>8</th>\n",
       "      <td>id1301050</td>\n",
       "      <td>1</td>\n",
       "      <td>2016-05-27 23:12:23</td>\n",
       "      <td>2016-05-27 23:16:38</td>\n",
       "      <td>1</td>\n",
       "      <td>-73.999481</td>\n",
       "      <td>40.738400</td>\n",
       "      <td>-73.985786</td>\n",
       "      <td>40.732815</td>\n",
       "      <td>N</td>\n",
       "      <td>255</td>\n",
       "    </tr>\n",
       "    <tr>\n",
       "      <th>9</th>\n",
       "      <td>id0012891</td>\n",
       "      <td>2</td>\n",
       "      <td>2016-03-10 21:45:01</td>\n",
       "      <td>2016-03-10 22:05:26</td>\n",
       "      <td>1</td>\n",
       "      <td>-73.981049</td>\n",
       "      <td>40.744339</td>\n",
       "      <td>-73.973000</td>\n",
       "      <td>40.789989</td>\n",
       "      <td>N</td>\n",
       "      <td>1225</td>\n",
       "    </tr>\n",
       "  </tbody>\n",
       "</table>\n",
       "</div>"
      ],
      "text/plain": [
       "          id  vendor_id      pickup_datetime     dropoff_datetime  \\\n",
       "0  id2875421          2  2016-03-14 17:24:55  2016-03-14 17:32:30   \n",
       "1  id2377394          1  2016-06-12 00:43:35  2016-06-12 00:54:38   \n",
       "2  id3858529          2  2016-01-19 11:35:24  2016-01-19 12:10:48   \n",
       "3  id3504673          2  2016-04-06 19:32:31  2016-04-06 19:39:40   \n",
       "4  id2181028          2  2016-03-26 13:30:55  2016-03-26 13:38:10   \n",
       "5  id0801584          2  2016-01-30 22:01:40  2016-01-30 22:09:03   \n",
       "6  id1813257          1  2016-06-17 22:34:59  2016-06-17 22:40:40   \n",
       "7  id1324603          2  2016-05-21 07:54:58  2016-05-21 08:20:49   \n",
       "8  id1301050          1  2016-05-27 23:12:23  2016-05-27 23:16:38   \n",
       "9  id0012891          2  2016-03-10 21:45:01  2016-03-10 22:05:26   \n",
       "\n",
       "   passenger_count  pickup_longitude  pickup_latitude  dropoff_longitude  \\\n",
       "0                1        -73.982155        40.767937         -73.964630   \n",
       "1                1        -73.980415        40.738564         -73.999481   \n",
       "2                1        -73.979027        40.763939         -74.005333   \n",
       "3                1        -74.010040        40.719971         -74.012268   \n",
       "4                1        -73.973053        40.793209         -73.972923   \n",
       "5                6        -73.982857        40.742195         -73.992081   \n",
       "6                4        -73.969017        40.757839         -73.957405   \n",
       "7                1        -73.969276        40.797779         -73.922470   \n",
       "8                1        -73.999481        40.738400         -73.985786   \n",
       "9                1        -73.981049        40.744339         -73.973000   \n",
       "\n",
       "   dropoff_latitude store_and_fwd_flag  trip_duration  \n",
       "0         40.765602                  N            455  \n",
       "1         40.731152                  N            663  \n",
       "2         40.710087                  N           2124  \n",
       "3         40.706718                  N            429  \n",
       "4         40.782520                  N            435  \n",
       "5         40.749184                  N            443  \n",
       "6         40.765896                  N            341  \n",
       "7         40.760559                  N           1551  \n",
       "8         40.732815                  N            255  \n",
       "9         40.789989                  N           1225  "
      ]
     },
     "execution_count": 6,
     "metadata": {},
     "output_type": "execute_result"
    }
   ],
   "source": [
    "train.head(10)"
   ]
  },
  {
   "cell_type": "code",
   "execution_count": 7,
   "metadata": {
    "_cell_guid": "f062a851-5011-42d3-b201-04df6aaa0be9",
    "_execution_state": "idle",
    "_uuid": "e94d858bbca859c0bb912307c47f81eea7f21bfb"
   },
   "outputs": [],
   "source": [
    "train.trip_duration = train.trip_duration/60"
   ]
  },
  {
   "cell_type": "code",
   "execution_count": 8,
   "metadata": {
    "_cell_guid": "145ebb43-ca00-4f8e-89d2-c4f6bb4814e1",
    "_execution_state": "idle",
    "_uuid": "b992897a5420a14de2e2ba729346fae6f98746f1"
   },
   "outputs": [],
   "source": [
    "# Remove outliers, keep only lower 99 quantile of trip duration\n",
    "trip_duration_99 = train.trip_duration.quantile(0.99)\n",
    "train = train[train.trip_duration < trip_duration_99]"
   ]
  },
  {
   "cell_type": "code",
   "execution_count": 9,
   "metadata": {
    "_cell_guid": "f63f66e6-0831-4e85-8a43-c4c3375ca460",
    "_execution_state": "idle",
    "_uuid": "377137dfa4bcb9a5ed46731158e7e3573e7993da"
   },
   "outputs": [
    {
     "data": {
      "text/plain": [
       "<matplotlib.axes._subplots.AxesSubplot at 0x1027a2e8>"
      ]
     },
     "execution_count": 9,
     "metadata": {},
     "output_type": "execute_result"
    },
    {
     "data": {
      "image/png": "[encoded data removed]",
      "text/plain": [
       "<matplotlib.figure.Figure at 0x1027ac18>"
      ]
     },
     "metadata": {},
     "output_type": "display_data"
    }
   ],
   "source": [
    "sns.distplot(train.trip_duration)"
   ]
  },
  {
   "cell_type": "code",
   "execution_count": 10,
   "metadata": {
    "_cell_guid": "be846fa4-50a1-43cd-b4bb-3c63c5275e10",
    "_execution_state": "idle",
    "_uuid": "892ca6c4c24f64070cec6400d1a0e1c98049e1f6"
   },
   "outputs": [
    {
     "data": {
      "text/plain": [
       "<matplotlib.axes._subplots.AxesSubplot at 0x123b5240>"
      ]
     },
     "execution_count": 10,
     "metadata": {},
     "output_type": "execute_result"
    },
    {
     "data": {
      "image/png": "[encoded data removed]",
      "text/plain": [
       "<matplotlib.figure.Figure at 0x189193c8>"
      ]
     },
     "metadata": {},
     "output_type": "display_data"
    }
   ],
   "source": [
    "# Squareroot transform trip duration to normalize data\n",
    "sns.distplot(np.sqrt(train.trip_duration))"
   ]
  },
  {
   "cell_type": "code",
   "execution_count": 11,
   "metadata": {
    "_cell_guid": "ae00dcc7-9780-4248-8be4-ffd95b0f957d",
    "_execution_state": "idle",
    "_uuid": "88b23d9e559d58cc0a23f126d70c15297e892f67"
   },
   "outputs": [],
   "source": [
    "train[\"trip_duration_sqrt\"] = np.sqrt(train.trip_duration)"
   ]
  },
  {
   "cell_type": "code",
   "execution_count": 12,
   "metadata": {
    "_cell_guid": "dd2e2f30-19e8-4db9-8661-57630cbc6ef6",
    "_execution_state": "idle",
    "_uuid": "d4cc1e1a446b5bf0e16a7f31a83c3e6aa9f5d8a8"
   },
   "outputs": [
    {
     "data": {
      "text/plain": [
       "<matplotlib.axes._subplots.AxesSubplot at 0x27916e80>"
      ]
     },
     "execution_count": 12,
     "metadata": {},
     "output_type": "execute_result"
    },
    {
     "data": {
      "image/png": "[encoded data removed]",
      "text/plain": [
       "<matplotlib.figure.Figure at 0x208ff4e0>"
      ]
     },
     "metadata": {},
     "output_type": "display_data"
    }
   ],
   "source": [
    "sns.countplot(train.vendor_id)"
   ]
  },
  {
   "cell_type": "code",
   "execution_count": 13,
   "metadata": {
    "_cell_guid": "b4f47fae-de70-4b38-91b7-108ca6bcbedb",
    "_execution_state": "idle",
    "_uuid": "2512c7497b167c27f87cee25c3b4dc4fd54df86e"
   },
   "outputs": [
    {
     "data": {
      "text/plain": [
       "<matplotlib.axes._subplots.AxesSubplot at 0x11ee5898>"
      ]
     },
     "execution_count": 13,
     "metadata": {},
     "output_type": "execute_result"
    },
    {
     "data": {
      "image/png": "[encoded data removed]",
      "text/plain": [
       "<matplotlib.figure.Figure at 0x11ef1d68>"
      ]
     },
     "metadata": {},
     "output_type": "display_data"
    }
   ],
   "source": [
    "sns.countplot(train.passenger_count)"
   ]
  },
  {
   "cell_type": "code",
   "execution_count": 14,
   "metadata": {
    "_cell_guid": "b6f545be-4ba1-40a1-9e83-955394fc1df2",
    "_execution_state": "idle",
    "_uuid": "b02ca771ea12e4b9533ea375887549c9d265c031"
   },
   "outputs": [
    {
     "data": {
      "text/plain": [
       "<matplotlib.axes._subplots.AxesSubplot at 0x1a693b70>"
      ]
     },
     "execution_count": 14,
     "metadata": {},
     "output_type": "execute_result"
    },
    {
     "data": {
      "image/png": "[encoded data removed]",
      "text/plain": [
       "<matplotlib.figure.Figure at 0xbfebeb8>"
      ]
     },
     "metadata": {},
     "output_type": "display_data"
    }
   ],
   "source": [
    "sns.countplot(train.store_and_fwd_flag)"
   ]
  },
  {
   "cell_type": "code",
   "execution_count": 15,
   "metadata": {
    "_cell_guid": "fb8a4287-7215-4411-a648-5bafd07b2753",
    "_execution_state": "idle",
    "_uuid": "b89cbea0c70e26284031f114eb7f652a9013347f"
   },
   "outputs": [
    {
     "data": {
      "text/plain": [
       "N    1436251\n",
       "Y       7800\n",
       "Name: store_and_fwd_flag, dtype: int64"
      ]
     },
     "execution_count": 15,
     "metadata": {},
     "output_type": "execute_result"
    }
   ],
   "source": [
    "train.store_and_fwd_flag.value_counts()"
   ]
  },
  {
   "cell_type": "code",
   "execution_count": 16,
   "metadata": {
    "_cell_guid": "96d3e10a-c89f-4414-8984-a3019ead2596",
    "_execution_state": "idle",
    "_uuid": "458d61527f1730ed5078a86ba21ed2b5d719dc6e"
   },
   "outputs": [
    {
     "data": {
      "text/plain": [
       "<matplotlib.axes._subplots.AxesSubplot at 0x162a91d0>"
      ]
     },
     "execution_count": 16,
     "metadata": {},
     "output_type": "execute_result"
    },
    {
     "data": {
      "image/png": "[encoded data removed]",
      "text/plain": [
       "<matplotlib.figure.Figure at 0x10e6aac8>"
      ]
     },
     "metadata": {},
     "output_type": "display_data"
    }
   ],
   "source": [
    "sns.boxplot(x = train.vendor_id, y = train.trip_duration_sqrt)"
   ]
  },
  {
   "cell_type": "code",
   "execution_count": 17,
   "metadata": {
    "_cell_guid": "85e443d1-6506-4ed2-82cc-3353ef87c201",
    "_execution_state": "idle",
    "_uuid": "f997576ebfc32dcf1476260b56bb54379fc23da7"
   },
   "outputs": [
    {
     "data": {
      "text/plain": [
       "<matplotlib.axes._subplots.AxesSubplot at 0x1523e9b0>"
      ]
     },
     "execution_count": 17,
     "metadata": {},
     "output_type": "execute_result"
    },
    {
     "data": {
      "image/png": "[encoded data removed]",
      "text/plain": [
       "<matplotlib.figure.Figure at 0x1a676550>"
      ]
     },
     "metadata": {},
     "output_type": "display_data"
    }
   ],
   "source": [
    "sns.boxplot(x = train.passenger_count, y = train.trip_duration_sqrt)"
   ]
  },
  {
   "cell_type": "code",
   "execution_count": 18,
   "metadata": {
    "_cell_guid": "59c10f2f-a515-4225-a771-afdd81421a1b",
    "_execution_state": "idle",
    "_uuid": "f0764008022a2e33bed1163cc96ee77a102642b3"
   },
   "outputs": [
    {
     "data": {
      "text/plain": [
       "<matplotlib.axes._subplots.AxesSubplot at 0x214aba90>"
      ]
     },
     "execution_count": 18,
     "metadata": {},
     "output_type": "execute_result"
    },
    {
     "data": {
      "image/png": "[encoded data removed]",
      "text/plain": [
       "<matplotlib.figure.Figure at 0x4866e80>"
      ]
     },
     "metadata": {},
     "output_type": "display_data"
    }
   ],
   "source": [
    "sns.boxplot(x = train.store_and_fwd_flag, y = train.trip_duration_sqrt)"
   ]
  },
  {
   "cell_type": "code",
   "execution_count": 19,
   "metadata": {
    "_execution_state": "idle",
    "_uuid": "a06f8a1e64cd0123dc67c4a1c18c01bace2d721c"
   },
   "outputs": [],
   "source": [
    "train.pickup_datetime = pd.to_datetime(train.pickup_datetime)\n",
    "train[\"pickup_month\"] = train.pickup_datetime.dt.month\n",
    "train[\"pickup_dow\"] = train.pickup_datetime.dt.dayofweek\n",
    "train[\"pickup_hour\"] = train.pickup_datetime.dt.hour"
   ]
  },
  {
   "cell_type": "code",
   "execution_count": 33,
   "metadata": {},
   "outputs": [],
   "source": [
    "train['is_weekend'] = False\n",
    "train.loc[train['pickup_dow'] >= 5, 'is_weekend'] = True"
   ]
  },
  {
   "cell_type": "code",
   "execution_count": 34,
   "metadata": {
    "_execution_state": "idle",
    "_uuid": "87f1bab6ef4a092f16e043cb944d4e84bd5f3354"
   },
   "outputs": [
    {
     "data": {
      "text/plain": [
       "<matplotlib.axes._subplots.AxesSubplot at 0x1b210860>"
      ]
     },
     "execution_count": 34,
     "metadata": {},
     "output_type": "execute_result"
    },
    {
     "data": {
      "image/png": "[encoded data removed]",
      "text/plain": [
       "<matplotlib.figure.Figure at 0x15aa8e80>"
      ]
     },
     "metadata": {},
     "output_type": "display_data"
    }
   ],
   "source": [
    "sns.pointplot(x = \"pickup_hour\", y = \"trip_duration_sqrt\", data = train)"
   ]
  },
  {
   "cell_type": "code",
   "execution_count": 35,
   "metadata": {},
   "outputs": [
    {
     "data": {
      "text/plain": [
       "<matplotlib.axes._subplots.AxesSubplot at 0x12b8eac8>"
      ]
     },
     "execution_count": 35,
     "metadata": {},
     "output_type": "execute_result"
    },
    {
     "data": {
      "image/png": "[encoded data removed]",
      "text/plain": [
       "<matplotlib.figure.Figure at 0x2749f4e0>"
      ]
     },
     "metadata": {},
     "output_type": "display_data"
    }
   ],
   "source": [
    "sns.pointplot(x = \"pickup_hour\", y = \"trip_duration_sqrt\", data = train, hue = \"is_weekend\")"
   ]
  },
  {
   "cell_type": "code",
   "execution_count": 36,
   "metadata": {},
   "outputs": [
    {
     "data": {
      "text/plain": [
       "<matplotlib.axes._subplots.AxesSubplot at 0x18ed90f0>"
      ]
     },
     "execution_count": 36,
     "metadata": {},
     "output_type": "execute_result"
    },
    {
     "data": {
      "image/png": "[encoded data removed]",
      "text/plain": [
       "<matplotlib.figure.Figure at 0x18ee4d30>"
      ]
     },
     "metadata": {},
     "output_type": "display_data"
    }
   ],
   "source": [
    "train_map = train.groupby([\"pickup_dow\",\"pickup_hour\"], as_index = False)[\"trip_duration\"].mean()\n",
    "train_map = train_map.pivot(\"pickup_dow\", \"pickup_hour\", \"trip_duration\")\n",
    "sns.heatmap(train_map)"
   ]
  },
  {
   "cell_type": "code",
   "execution_count": 32,
   "metadata": {
    "_execution_state": "idle",
    "_uuid": "0cbdcca426e79c8e3e04f5f95f101b38f2e23774"
   },
   "outputs": [
    {
     "data": {
      "text/html": [
       "<div>\n",
       "<style>\n",
       "    .dataframe thead tr:only-child th {\n",
       "        text-align: right;\n",
       "    }\n",
       "\n",
       "    .dataframe thead th {\n",
       "        text-align: left;\n",
       "    }\n",
       "\n",
       "    .dataframe tbody tr th {\n",
       "        vertical-align: top;\n",
       "    }\n",
       "</style>\n",
       "<table border=\"1\" class=\"dataframe\">\n",
       "  <thead>\n",
       "    <tr style=\"text-align: right;\">\n",
       "      <th></th>\n",
       "      <th>id</th>\n",
       "      <th>vendor_id</th>\n",
       "      <th>pickup_datetime</th>\n",
       "      <th>dropoff_datetime</th>\n",
       "      <th>passenger_count</th>\n",
       "      <th>pickup_longitude</th>\n",
       "      <th>pickup_latitude</th>\n",
       "      <th>dropoff_longitude</th>\n",
       "      <th>dropoff_latitude</th>\n",
       "      <th>store_and_fwd_flag</th>\n",
       "      <th>trip_duration</th>\n",
       "      <th>trip_duration_sqrt</th>\n",
       "      <th>pickup_month</th>\n",
       "      <th>pickup_dow</th>\n",
       "      <th>pickup_hour</th>\n",
       "      <th>is_weekend</th>\n",
       "    </tr>\n",
       "  </thead>\n",
       "  <tbody>\n",
       "    <tr>\n",
       "      <th>0</th>\n",
       "      <td>id2875421</td>\n",
       "      <td>2</td>\n",
       "      <td>2016-03-14 17:24:55</td>\n",
       "      <td>2016-03-14 17:32:30</td>\n",
       "      <td>1</td>\n",
       "      <td>-73.982155</td>\n",
       "      <td>40.767937</td>\n",
       "      <td>-73.964630</td>\n",
       "      <td>40.765602</td>\n",
       "      <td>N</td>\n",
       "      <td>7.583333</td>\n",
       "      <td>2.753785</td>\n",
       "      <td>3</td>\n",
       "      <td>0</td>\n",
       "      <td>17</td>\n",
       "      <td>False</td>\n",
       "    </tr>\n",
       "    <tr>\n",
       "      <th>1</th>\n",
       "      <td>id2377394</td>\n",
       "      <td>1</td>\n",
       "      <td>2016-06-12 00:43:35</td>\n",
       "      <td>2016-06-12 00:54:38</td>\n",
       "      <td>1</td>\n",
       "      <td>-73.980415</td>\n",
       "      <td>40.738564</td>\n",
       "      <td>-73.999481</td>\n",
       "      <td>40.731152</td>\n",
       "      <td>N</td>\n",
       "      <td>11.050000</td>\n",
       "      <td>3.324154</td>\n",
       "      <td>6</td>\n",
       "      <td>6</td>\n",
       "      <td>0</td>\n",
       "      <td>True</td>\n",
       "    </tr>\n",
       "    <tr>\n",
       "      <th>2</th>\n",
       "      <td>id3858529</td>\n",
       "      <td>2</td>\n",
       "      <td>2016-01-19 11:35:24</td>\n",
       "      <td>2016-01-19 12:10:48</td>\n",
       "      <td>1</td>\n",
       "      <td>-73.979027</td>\n",
       "      <td>40.763939</td>\n",
       "      <td>-74.005333</td>\n",
       "      <td>40.710087</td>\n",
       "      <td>N</td>\n",
       "      <td>35.400000</td>\n",
       "      <td>5.949790</td>\n",
       "      <td>1</td>\n",
       "      <td>1</td>\n",
       "      <td>11</td>\n",
       "      <td>False</td>\n",
       "    </tr>\n",
       "    <tr>\n",
       "      <th>3</th>\n",
       "      <td>id3504673</td>\n",
       "      <td>2</td>\n",
       "      <td>2016-04-06 19:32:31</td>\n",
       "      <td>2016-04-06 19:39:40</td>\n",
       "      <td>1</td>\n",
       "      <td>-74.010040</td>\n",
       "      <td>40.719971</td>\n",
       "      <td>-74.012268</td>\n",
       "      <td>40.706718</td>\n",
       "      <td>N</td>\n",
       "      <td>7.150000</td>\n",
       "      <td>2.673948</td>\n",
       "      <td>4</td>\n",
       "      <td>2</td>\n",
       "      <td>19</td>\n",
       "      <td>False</td>\n",
       "    </tr>\n",
       "    <tr>\n",
       "      <th>4</th>\n",
       "      <td>id2181028</td>\n",
       "      <td>2</td>\n",
       "      <td>2016-03-26 13:30:55</td>\n",
       "      <td>2016-03-26 13:38:10</td>\n",
       "      <td>1</td>\n",
       "      <td>-73.973053</td>\n",
       "      <td>40.793209</td>\n",
       "      <td>-73.972923</td>\n",
       "      <td>40.782520</td>\n",
       "      <td>N</td>\n",
       "      <td>7.250000</td>\n",
       "      <td>2.692582</td>\n",
       "      <td>3</td>\n",
       "      <td>5</td>\n",
       "      <td>13</td>\n",
       "      <td>False</td>\n",
       "    </tr>\n",
       "    <tr>\n",
       "      <th>5</th>\n",
       "      <td>id0801584</td>\n",
       "      <td>2</td>\n",
       "      <td>2016-01-30 22:01:40</td>\n",
       "      <td>2016-01-30 22:09:03</td>\n",
       "      <td>6</td>\n",
       "      <td>-73.982857</td>\n",
       "      <td>40.742195</td>\n",
       "      <td>-73.992081</td>\n",
       "      <td>40.749184</td>\n",
       "      <td>N</td>\n",
       "      <td>7.383333</td>\n",
       "      <td>2.717229</td>\n",
       "      <td>1</td>\n",
       "      <td>5</td>\n",
       "      <td>22</td>\n",
       "      <td>False</td>\n",
       "    </tr>\n",
       "    <tr>\n",
       "      <th>6</th>\n",
       "      <td>id1813257</td>\n",
       "      <td>1</td>\n",
       "      <td>2016-06-17 22:34:59</td>\n",
       "      <td>2016-06-17 22:40:40</td>\n",
       "      <td>4</td>\n",
       "      <td>-73.969017</td>\n",
       "      <td>40.757839</td>\n",
       "      <td>-73.957405</td>\n",
       "      <td>40.765896</td>\n",
       "      <td>N</td>\n",
       "      <td>5.683333</td>\n",
       "      <td>2.383974</td>\n",
       "      <td>6</td>\n",
       "      <td>4</td>\n",
       "      <td>22</td>\n",
       "      <td>False</td>\n",
       "    </tr>\n",
       "    <tr>\n",
       "      <th>7</th>\n",
       "      <td>id1324603</td>\n",
       "      <td>2</td>\n",
       "      <td>2016-05-21 07:54:58</td>\n",
       "      <td>2016-05-21 08:20:49</td>\n",
       "      <td>1</td>\n",
       "      <td>-73.969276</td>\n",
       "      <td>40.797779</td>\n",
       "      <td>-73.922470</td>\n",
       "      <td>40.760559</td>\n",
       "      <td>N</td>\n",
       "      <td>25.850000</td>\n",
       "      <td>5.084290</td>\n",
       "      <td>5</td>\n",
       "      <td>5</td>\n",
       "      <td>7</td>\n",
       "      <td>False</td>\n",
       "    </tr>\n",
       "    <tr>\n",
       "      <th>8</th>\n",
       "      <td>id1301050</td>\n",
       "      <td>1</td>\n",
       "      <td>2016-05-27 23:12:23</td>\n",
       "      <td>2016-05-27 23:16:38</td>\n",
       "      <td>1</td>\n",
       "      <td>-73.999481</td>\n",
       "      <td>40.738400</td>\n",
       "      <td>-73.985786</td>\n",
       "      <td>40.732815</td>\n",
       "      <td>N</td>\n",
       "      <td>4.250000</td>\n",
       "      <td>2.061553</td>\n",
       "      <td>5</td>\n",
       "      <td>4</td>\n",
       "      <td>23</td>\n",
       "      <td>False</td>\n",
       "    </tr>\n",
       "    <tr>\n",
       "      <th>9</th>\n",
       "      <td>id0012891</td>\n",
       "      <td>2</td>\n",
       "      <td>2016-03-10 21:45:01</td>\n",
       "      <td>2016-03-10 22:05:26</td>\n",
       "      <td>1</td>\n",
       "      <td>-73.981049</td>\n",
       "      <td>40.744339</td>\n",
       "      <td>-73.973000</td>\n",
       "      <td>40.789989</td>\n",
       "      <td>N</td>\n",
       "      <td>20.416667</td>\n",
       "      <td>4.518481</td>\n",
       "      <td>3</td>\n",
       "      <td>3</td>\n",
       "      <td>21</td>\n",
       "      <td>False</td>\n",
       "    </tr>\n",
       "    <tr>\n",
       "      <th>10</th>\n",
       "      <td>id1436371</td>\n",
       "      <td>2</td>\n",
       "      <td>2016-05-10 22:08:41</td>\n",
       "      <td>2016-05-10 22:29:55</td>\n",
       "      <td>1</td>\n",
       "      <td>-73.982651</td>\n",
       "      <td>40.763840</td>\n",
       "      <td>-74.002228</td>\n",
       "      <td>40.732990</td>\n",
       "      <td>N</td>\n",
       "      <td>21.233333</td>\n",
       "      <td>4.607964</td>\n",
       "      <td>5</td>\n",
       "      <td>1</td>\n",
       "      <td>22</td>\n",
       "      <td>False</td>\n",
       "    </tr>\n",
       "    <tr>\n",
       "      <th>11</th>\n",
       "      <td>id1299289</td>\n",
       "      <td>2</td>\n",
       "      <td>2016-05-15 11:16:11</td>\n",
       "      <td>2016-05-15 11:34:59</td>\n",
       "      <td>4</td>\n",
       "      <td>-73.991531</td>\n",
       "      <td>40.749439</td>\n",
       "      <td>-73.956543</td>\n",
       "      <td>40.770630</td>\n",
       "      <td>N</td>\n",
       "      <td>18.800000</td>\n",
       "      <td>4.335897</td>\n",
       "      <td>5</td>\n",
       "      <td>6</td>\n",
       "      <td>11</td>\n",
       "      <td>False</td>\n",
       "    </tr>\n",
       "    <tr>\n",
       "      <th>12</th>\n",
       "      <td>id1187965</td>\n",
       "      <td>2</td>\n",
       "      <td>2016-02-19 09:52:46</td>\n",
       "      <td>2016-02-19 10:11:20</td>\n",
       "      <td>2</td>\n",
       "      <td>-73.962982</td>\n",
       "      <td>40.756680</td>\n",
       "      <td>-73.984406</td>\n",
       "      <td>40.760719</td>\n",
       "      <td>N</td>\n",
       "      <td>18.566667</td>\n",
       "      <td>4.308906</td>\n",
       "      <td>2</td>\n",
       "      <td>4</td>\n",
       "      <td>9</td>\n",
       "      <td>False</td>\n",
       "    </tr>\n",
       "    <tr>\n",
       "      <th>13</th>\n",
       "      <td>id0799785</td>\n",
       "      <td>2</td>\n",
       "      <td>2016-06-01 20:58:29</td>\n",
       "      <td>2016-06-01 21:02:49</td>\n",
       "      <td>1</td>\n",
       "      <td>-73.956306</td>\n",
       "      <td>40.767941</td>\n",
       "      <td>-73.966110</td>\n",
       "      <td>40.763000</td>\n",
       "      <td>N</td>\n",
       "      <td>4.333333</td>\n",
       "      <td>2.081666</td>\n",
       "      <td>6</td>\n",
       "      <td>2</td>\n",
       "      <td>20</td>\n",
       "      <td>False</td>\n",
       "    </tr>\n",
       "    <tr>\n",
       "      <th>14</th>\n",
       "      <td>id2900608</td>\n",
       "      <td>2</td>\n",
       "      <td>2016-05-27 00:43:36</td>\n",
       "      <td>2016-05-27 01:07:10</td>\n",
       "      <td>1</td>\n",
       "      <td>-73.992195</td>\n",
       "      <td>40.727226</td>\n",
       "      <td>-73.974655</td>\n",
       "      <td>40.783070</td>\n",
       "      <td>N</td>\n",
       "      <td>23.566667</td>\n",
       "      <td>4.854551</td>\n",
       "      <td>5</td>\n",
       "      <td>4</td>\n",
       "      <td>0</td>\n",
       "      <td>False</td>\n",
       "    </tr>\n",
       "    <tr>\n",
       "      <th>15</th>\n",
       "      <td>id3319787</td>\n",
       "      <td>1</td>\n",
       "      <td>2016-05-16 15:29:02</td>\n",
       "      <td>2016-05-16 15:32:33</td>\n",
       "      <td>1</td>\n",
       "      <td>-73.955513</td>\n",
       "      <td>40.768593</td>\n",
       "      <td>-73.948761</td>\n",
       "      <td>40.771545</td>\n",
       "      <td>N</td>\n",
       "      <td>3.516667</td>\n",
       "      <td>1.875278</td>\n",
       "      <td>5</td>\n",
       "      <td>0</td>\n",
       "      <td>15</td>\n",
       "      <td>False</td>\n",
       "    </tr>\n",
       "    <tr>\n",
       "      <th>16</th>\n",
       "      <td>id3379579</td>\n",
       "      <td>2</td>\n",
       "      <td>2016-04-11 17:29:50</td>\n",
       "      <td>2016-04-11 18:08:26</td>\n",
       "      <td>1</td>\n",
       "      <td>-73.991165</td>\n",
       "      <td>40.755562</td>\n",
       "      <td>-73.999290</td>\n",
       "      <td>40.725353</td>\n",
       "      <td>N</td>\n",
       "      <td>38.600000</td>\n",
       "      <td>6.212890</td>\n",
       "      <td>4</td>\n",
       "      <td>0</td>\n",
       "      <td>17</td>\n",
       "      <td>False</td>\n",
       "    </tr>\n",
       "    <tr>\n",
       "      <th>17</th>\n",
       "      <td>id1154431</td>\n",
       "      <td>1</td>\n",
       "      <td>2016-04-14 08:48:26</td>\n",
       "      <td>2016-04-14 09:00:37</td>\n",
       "      <td>1</td>\n",
       "      <td>-73.994255</td>\n",
       "      <td>40.745804</td>\n",
       "      <td>-73.999657</td>\n",
       "      <td>40.723343</td>\n",
       "      <td>N</td>\n",
       "      <td>12.183333</td>\n",
       "      <td>3.490463</td>\n",
       "      <td>4</td>\n",
       "      <td>3</td>\n",
       "      <td>8</td>\n",
       "      <td>False</td>\n",
       "    </tr>\n",
       "    <tr>\n",
       "      <th>18</th>\n",
       "      <td>id3552682</td>\n",
       "      <td>1</td>\n",
       "      <td>2016-06-27 09:55:13</td>\n",
       "      <td>2016-06-27 10:17:10</td>\n",
       "      <td>1</td>\n",
       "      <td>-74.003983</td>\n",
       "      <td>40.713013</td>\n",
       "      <td>-73.979195</td>\n",
       "      <td>40.749924</td>\n",
       "      <td>N</td>\n",
       "      <td>21.950000</td>\n",
       "      <td>4.685083</td>\n",
       "      <td>6</td>\n",
       "      <td>0</td>\n",
       "      <td>9</td>\n",
       "      <td>False</td>\n",
       "    </tr>\n",
       "    <tr>\n",
       "      <th>19</th>\n",
       "      <td>id3390316</td>\n",
       "      <td>2</td>\n",
       "      <td>2016-06-05 13:47:23</td>\n",
       "      <td>2016-06-05 13:51:34</td>\n",
       "      <td>1</td>\n",
       "      <td>-73.983887</td>\n",
       "      <td>40.738197</td>\n",
       "      <td>-73.991203</td>\n",
       "      <td>40.727871</td>\n",
       "      <td>N</td>\n",
       "      <td>4.183333</td>\n",
       "      <td>2.045320</td>\n",
       "      <td>6</td>\n",
       "      <td>6</td>\n",
       "      <td>13</td>\n",
       "      <td>False</td>\n",
       "    </tr>\n",
       "  </tbody>\n",
       "</table>\n",
       "</div>"
      ],
      "text/plain": [
       "           id  vendor_id     pickup_datetime     dropoff_datetime  \\\n",
       "0   id2875421          2 2016-03-14 17:24:55  2016-03-14 17:32:30   \n",
       "1   id2377394          1 2016-06-12 00:43:35  2016-06-12 00:54:38   \n",
       "2   id3858529          2 2016-01-19 11:35:24  2016-01-19 12:10:48   \n",
       "3   id3504673          2 2016-04-06 19:32:31  2016-04-06 19:39:40   \n",
       "4   id2181028          2 2016-03-26 13:30:55  2016-03-26 13:38:10   \n",
       "5   id0801584          2 2016-01-30 22:01:40  2016-01-30 22:09:03   \n",
       "6   id1813257          1 2016-06-17 22:34:59  2016-06-17 22:40:40   \n",
       "7   id1324603          2 2016-05-21 07:54:58  2016-05-21 08:20:49   \n",
       "8   id1301050          1 2016-05-27 23:12:23  2016-05-27 23:16:38   \n",
       "9   id0012891          2 2016-03-10 21:45:01  2016-03-10 22:05:26   \n",
       "10  id1436371          2 2016-05-10 22:08:41  2016-05-10 22:29:55   \n",
       "11  id1299289          2 2016-05-15 11:16:11  2016-05-15 11:34:59   \n",
       "12  id1187965          2 2016-02-19 09:52:46  2016-02-19 10:11:20   \n",
       "13  id0799785          2 2016-06-01 20:58:29  2016-06-01 21:02:49   \n",
       "14  id2900608          2 2016-05-27 00:43:36  2016-05-27 01:07:10   \n",
       "15  id3319787          1 2016-05-16 15:29:02  2016-05-16 15:32:33   \n",
       "16  id3379579          2 2016-04-11 17:29:50  2016-04-11 18:08:26   \n",
       "17  id1154431          1 2016-04-14 08:48:26  2016-04-14 09:00:37   \n",
       "18  id3552682          1 2016-06-27 09:55:13  2016-06-27 10:17:10   \n",
       "19  id3390316          2 2016-06-05 13:47:23  2016-06-05 13:51:34   \n",
       "\n",
       "    passenger_count  pickup_longitude  pickup_latitude  dropoff_longitude  \\\n",
       "0                 1        -73.982155        40.767937         -73.964630   \n",
       "1                 1        -73.980415        40.738564         -73.999481   \n",
       "2                 1        -73.979027        40.763939         -74.005333   \n",
       "3                 1        -74.010040        40.719971         -74.012268   \n",
       "4                 1        -73.973053        40.793209         -73.972923   \n",
       "5                 6        -73.982857        40.742195         -73.992081   \n",
       "6                 4        -73.969017        40.757839         -73.957405   \n",
       "7                 1        -73.969276        40.797779         -73.922470   \n",
       "8                 1        -73.999481        40.738400         -73.985786   \n",
       "9                 1        -73.981049        40.744339         -73.973000   \n",
       "10                1        -73.982651        40.763840         -74.002228   \n",
       "11                4        -73.991531        40.749439         -73.956543   \n",
       "12                2        -73.962982        40.756680         -73.984406   \n",
       "13                1        -73.956306        40.767941         -73.966110   \n",
       "14                1        -73.992195        40.727226         -73.974655   \n",
       "15                1        -73.955513        40.768593         -73.948761   \n",
       "16                1        -73.991165        40.755562         -73.999290   \n",
       "17                1        -73.994255        40.745804         -73.999657   \n",
       "18                1        -74.003983        40.713013         -73.979195   \n",
       "19                1        -73.983887        40.738197         -73.991203   \n",
       "\n",
       "    dropoff_latitude store_and_fwd_flag  trip_duration  trip_duration_sqrt  \\\n",
       "0          40.765602                  N       7.583333            2.753785   \n",
       "1          40.731152                  N      11.050000            3.324154   \n",
       "2          40.710087                  N      35.400000            5.949790   \n",
       "3          40.706718                  N       7.150000            2.673948   \n",
       "4          40.782520                  N       7.250000            2.692582   \n",
       "5          40.749184                  N       7.383333            2.717229   \n",
       "6          40.765896                  N       5.683333            2.383974   \n",
       "7          40.760559                  N      25.850000            5.084290   \n",
       "8          40.732815                  N       4.250000            2.061553   \n",
       "9          40.789989                  N      20.416667            4.518481   \n",
       "10         40.732990                  N      21.233333            4.607964   \n",
       "11         40.770630                  N      18.800000            4.335897   \n",
       "12         40.760719                  N      18.566667            4.308906   \n",
       "13         40.763000                  N       4.333333            2.081666   \n",
       "14         40.783070                  N      23.566667            4.854551   \n",
       "15         40.771545                  N       3.516667            1.875278   \n",
       "16         40.725353                  N      38.600000            6.212890   \n",
       "17         40.723343                  N      12.183333            3.490463   \n",
       "18         40.749924                  N      21.950000            4.685083   \n",
       "19         40.727871                  N       4.183333            2.045320   \n",
       "\n",
       "    pickup_month  pickup_dow  pickup_hour  is_weekend  \n",
       "0              3           0           17       False  \n",
       "1              6           6            0        True  \n",
       "2              1           1           11       False  \n",
       "3              4           2           19       False  \n",
       "4              3           5           13       False  \n",
       "5              1           5           22       False  \n",
       "6              6           4           22       False  \n",
       "7              5           5            7       False  \n",
       "8              5           4           23       False  \n",
       "9              3           3           21       False  \n",
       "10             5           1           22       False  \n",
       "11             5           6           11       False  \n",
       "12             2           4            9       False  \n",
       "13             6           2           20       False  \n",
       "14             5           4            0       False  \n",
       "15             5           0           15       False  \n",
       "16             4           0           17       False  \n",
       "17             4           3            8       False  \n",
       "18             6           0            9       False  \n",
       "19             6           6           13       False  "
      ]
     },
     "execution_count": 32,
     "metadata": {},
     "output_type": "execute_result"
    }
   ],
   "source": [
    "train.head(20)"
   ]
  },
  {
   "cell_type": "code",
   "execution_count": 37,
   "metadata": {},
   "outputs": [
    {
     "data": {
      "text/plain": [
       "<matplotlib.axes._subplots.AxesSubplot at 0x1076c978>"
      ]
     },
     "execution_count": 37,
     "metadata": {},
     "output_type": "execute_result"
    },
    {
     "data": {
      "image/png": "[encoded data removed]",
      "text/plain": [
       "<matplotlib.figure.Figure at 0x1c112828>"
      ]
     },
     "metadata": {},
     "output_type": "display_data"
    }
   ],
   "source": [
    "sns.pointplot(x = \"pickup_hour\", y = \"trip_duration_sqrt\", data = train, hue = \"pickup_month\")"
   ]
  },
  {
   "cell_type": "code",
   "execution_count": null,
   "metadata": {
    "collapsed": true
   },
   "outputs": [],
   "source": []
  }
 ],
 "metadata": {
  "kernelspec": {
   "display_name": "Python 2",
   "language": "python",
   "name": "python2"
  },
  "language_info": {
   "codemirror_mode": {
    "name": "ipython",
    "version": 2
   },
   "file_extension": ".py",
   "mimetype": "text/x-python",
   "name": "python",
   "nbconvert_exporter": "python",
   "pygments_lexer": "ipython2",
   "version": "2.7.13"
  }
 },
 "nbformat": 4,
 "nbformat_minor": 1
}
